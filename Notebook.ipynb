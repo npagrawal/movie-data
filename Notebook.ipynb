{
 "cells": [
  {
   "cell_type": "code",
   "execution_count": 1,
   "id": "5c83f096",
   "metadata": {},
   "outputs": [],
   "source": [
    "import pandas as pd\n",
    "import numpy as np\n",
    "import seaborn as sns"
   ]
  },
  {
   "cell_type": "code",
   "execution_count": 75,
   "id": "c2a3d123",
   "metadata": {},
   "outputs": [],
   "source": [
    "cast = pd.read_csv(\"data/cast_dataset.csv\")\n",
    "crew = pd.read_csv(\"data/crew_dataset.csv\")\n",
    "keywords = pd.read_csv(\"data/keywords_dataframe.csv\")\n",
    "movies = pd.read_csv(\"data/movies_dataset.csv\")"
   ]
  },
  {
   "cell_type": "code",
   "execution_count": 76,
   "id": "b52efe9f",
   "metadata": {},
   "outputs": [
    {
     "data": {
      "text/html": [
       "<div>\n",
       "<style scoped>\n",
       "    .dataframe tbody tr th:only-of-type {\n",
       "        vertical-align: middle;\n",
       "    }\n",
       "\n",
       "    .dataframe tbody tr th {\n",
       "        vertical-align: top;\n",
       "    }\n",
       "\n",
       "    .dataframe thead th {\n",
       "        text-align: right;\n",
       "    }\n",
       "</style>\n",
       "<table border=\"1\" class=\"dataframe\">\n",
       "  <thead>\n",
       "    <tr style=\"text-align: right;\">\n",
       "      <th></th>\n",
       "      <th>id</th>\n",
       "      <th>cast</th>\n",
       "    </tr>\n",
       "  </thead>\n",
       "  <tbody>\n",
       "    <tr>\n",
       "      <th>0</th>\n",
       "      <td>667538</td>\n",
       "      <td>[{'cast_id': 1560244, 'name': 'Anthony Ramos',...</td>\n",
       "    </tr>\n",
       "    <tr>\n",
       "      <th>1</th>\n",
       "      <td>785759</td>\n",
       "      <td>[{'cast_id': 2283865, 'name': 'Belle Adams', '...</td>\n",
       "    </tr>\n",
       "    <tr>\n",
       "      <th>2</th>\n",
       "      <td>493529</td>\n",
       "      <td>[{'cast_id': 62064, 'name': 'Chris Pine', 'cha...</td>\n",
       "    </tr>\n",
       "    <tr>\n",
       "      <th>3</th>\n",
       "      <td>646389</td>\n",
       "      <td>[{'cast_id': 17276, 'name': 'Gerard Butler', '...</td>\n",
       "    </tr>\n",
       "    <tr>\n",
       "      <th>4</th>\n",
       "      <td>1111140</td>\n",
       "      <td>[{'cast_id': 55086, 'name': 'Cam Gigandet', 'c...</td>\n",
       "    </tr>\n",
       "  </tbody>\n",
       "</table>\n",
       "</div>"
      ],
      "text/plain": [
       "        id                                               cast\n",
       "0   667538  [{'cast_id': 1560244, 'name': 'Anthony Ramos',...\n",
       "1   785759  [{'cast_id': 2283865, 'name': 'Belle Adams', '...\n",
       "2   493529  [{'cast_id': 62064, 'name': 'Chris Pine', 'cha...\n",
       "3   646389  [{'cast_id': 17276, 'name': 'Gerard Butler', '...\n",
       "4  1111140  [{'cast_id': 55086, 'name': 'Cam Gigandet', 'c..."
      ]
     },
     "execution_count": 76,
     "metadata": {},
     "output_type": "execute_result"
    }
   ],
   "source": [
    "cast.head()"
   ]
  },
  {
   "cell_type": "code",
   "execution_count": 77,
   "id": "dda3effd",
   "metadata": {},
   "outputs": [],
   "source": [
    "cast[\"cast\"] = [x.split(\"{\") for x in cast[\"cast\"]]\n",
    "cast[\"cast\"] = [x[1:-1] for x in cast[\"cast\"]]\n"
   ]
  },
  {
   "cell_type": "code",
   "execution_count": 80,
   "id": "d991bc2d",
   "metadata": {},
   "outputs": [
    {
     "data": {
      "text/plain": [
       "[\"'cast_id': 2283865, 'name': 'Belle Adams', 'character': 'Sarah'}, \",\n",
       " '\\'cast_id\\': 1681685, \\'name\\': \\'Jacob DeMonte-Finn\\', \\'character\\': \"Masha\\'s one night stand\"}, ',\n",
       " \"'cast_id': 2934926, 'name': 'Tim Fox', 'character': 'Dustin'}, \",\n",
       " \"'cast_id': 1070188, 'name': 'Clint Glenn Hummel', 'character': 'Charlie'}, \",\n",
       " \"'cast_id': 1492017, 'name': 'Danielle Kennedy', 'character': 'Mary'}, \",\n",
       " \"'cast_id': 143549, 'name': 'Rebekah Kennedy', 'character': 'Masha'}, \",\n",
       " \"'cast_id': 21321, 'name': 'Kristina Klebe', 'character': 'Rachel'}, \",\n",
       " \"'cast_id': 2625633, 'name': 'Ian Michaels', 'character': 'Simon'}, \",\n",
       " '\\'cast_id\\': 2435782, \\'name\\': \\'Lindsey Rose Naves\\', \\'character\\': \"Rachel\\'s colleague\"}, ',\n",
       " \"'cast_id': 2834402, 'name': 'Julien Marlon Samani', 'character': 'Paul'}, \",\n",
       " \"'cast_id': 2649206, 'name': 'Dina Silva', 'character': 'Melissa'}, \"]"
      ]
     },
     "execution_count": 80,
     "metadata": {},
     "output_type": "execute_result"
    }
   ],
   "source": [
    "cast[\"cast\"].iloc[1]"
   ]
  },
  {
   "cell_type": "code",
   "execution_count": 13,
   "id": "a29aead0",
   "metadata": {},
   "outputs": [],
   "source": [
    "cast = cast[\"cast\"].explode()"
   ]
  },
  {
   "cell_type": "code",
   "execution_count": 14,
   "id": "a39ee34a",
   "metadata": {},
   "outputs": [
    {
     "data": {
      "text/plain": [
       "0        [{'cast_id': 1560244, 'name': 'Anthony Ramos',...\n",
       "1        [{'cast_id': 2283865, 'name': 'Belle Adams', '...\n",
       "2        [{'cast_id': 62064, 'name': 'Chris Pine', 'cha...\n",
       "3        [{'cast_id': 17276, 'name': 'Gerard Butler', '...\n",
       "4        [{'cast_id': 55086, 'name': 'Cam Gigandet', 'c...\n",
       "                               ...                        \n",
       "11995    [{'cast_id': 85881, 'name': 'Sanjay Dutt', 'ch...\n",
       "11996                                                   []\n",
       "11997    [{'cast_id': 1340978, 'name': 'Kiara Advani', ...\n",
       "11998    [{'cast_id': 101856, 'name': 'Shweta Basu Pras...\n",
       "11999    [{'cast_id': 1675317, 'name': 'Sunny Kaushal',...\n",
       "Name: cast, Length: 12000, dtype: object"
      ]
     },
     "execution_count": 14,
     "metadata": {},
     "output_type": "execute_result"
    }
   ],
   "source": []
  },
  {
   "cell_type": "code",
   "execution_count": 6,
   "id": "60b382d9",
   "metadata": {},
   "outputs": [
    {
     "data": {
      "text/html": [
       "<div>\n",
       "<style scoped>\n",
       "    .dataframe tbody tr th:only-of-type {\n",
       "        vertical-align: middle;\n",
       "    }\n",
       "\n",
       "    .dataframe tbody tr th {\n",
       "        vertical-align: top;\n",
       "    }\n",
       "\n",
       "    .dataframe thead th {\n",
       "        text-align: right;\n",
       "    }\n",
       "</style>\n",
       "<table border=\"1\" class=\"dataframe\">\n",
       "  <thead>\n",
       "    <tr style=\"text-align: right;\">\n",
       "      <th></th>\n",
       "      <th>id</th>\n",
       "      <th>crew</th>\n",
       "    </tr>\n",
       "  </thead>\n",
       "  <tbody>\n",
       "    <tr>\n",
       "      <th>0</th>\n",
       "      <td>667538</td>\n",
       "      <td>[{'crew_id': 488, 'name': 'Steven Spielberg', ...</td>\n",
       "    </tr>\n",
       "    <tr>\n",
       "      <th>1</th>\n",
       "      <td>785759</td>\n",
       "      <td>[{'crew_id': 2642445, 'name': 'Pierre Tsigarid...</td>\n",
       "    </tr>\n",
       "    <tr>\n",
       "      <th>2</th>\n",
       "      <td>493529</td>\n",
       "      <td>[{'crew_id': 547, 'name': 'Victoria Thomas', '...</td>\n",
       "    </tr>\n",
       "    <tr>\n",
       "      <th>3</th>\n",
       "      <td>646389</td>\n",
       "      <td>[{'crew_id': 7229, 'name': 'Marco Beltrami', '...</td>\n",
       "    </tr>\n",
       "    <tr>\n",
       "      <th>4</th>\n",
       "      <td>1111140</td>\n",
       "      <td>[{'crew_id': 1046465, 'name': 'Raliegh Wilson'...</td>\n",
       "    </tr>\n",
       "  </tbody>\n",
       "</table>\n",
       "</div>"
      ],
      "text/plain": [
       "        id                                               crew\n",
       "0   667538  [{'crew_id': 488, 'name': 'Steven Spielberg', ...\n",
       "1   785759  [{'crew_id': 2642445, 'name': 'Pierre Tsigarid...\n",
       "2   493529  [{'crew_id': 547, 'name': 'Victoria Thomas', '...\n",
       "3   646389  [{'crew_id': 7229, 'name': 'Marco Beltrami', '...\n",
       "4  1111140  [{'crew_id': 1046465, 'name': 'Raliegh Wilson'..."
      ]
     },
     "execution_count": 6,
     "metadata": {},
     "output_type": "execute_result"
    }
   ],
   "source": [
    "crew.head()"
   ]
  },
  {
   "cell_type": "code",
   "execution_count": 7,
   "id": "6e692d28",
   "metadata": {},
   "outputs": [
    {
     "data": {
      "text/html": [
       "<div>\n",
       "<style scoped>\n",
       "    .dataframe tbody tr th:only-of-type {\n",
       "        vertical-align: middle;\n",
       "    }\n",
       "\n",
       "    .dataframe tbody tr th {\n",
       "        vertical-align: top;\n",
       "    }\n",
       "\n",
       "    .dataframe thead th {\n",
       "        text-align: right;\n",
       "    }\n",
       "</style>\n",
       "<table border=\"1\" class=\"dataframe\">\n",
       "  <thead>\n",
       "    <tr style=\"text-align: right;\">\n",
       "      <th></th>\n",
       "      <th>Unnamed: 0</th>\n",
       "      <th>id</th>\n",
       "      <th>keywords</th>\n",
       "    </tr>\n",
       "  </thead>\n",
       "  <tbody>\n",
       "    <tr>\n",
       "      <th>0</th>\n",
       "      <td>0</td>\n",
       "      <td>76600</td>\n",
       "      <td>[{'id': 697, 'name': 'loss of loved one'}, {'i...</td>\n",
       "    </tr>\n",
       "    <tr>\n",
       "      <th>1</th>\n",
       "      <td>1</td>\n",
       "      <td>713704</td>\n",
       "      <td>[{'id': 380, 'name': 'sibling relationship'}, ...</td>\n",
       "    </tr>\n",
       "    <tr>\n",
       "      <th>2</th>\n",
       "      <td>2</td>\n",
       "      <td>758323</td>\n",
       "      <td>[{'id': 514, 'name': 'spain'}, {'id': 588, 'na...</td>\n",
       "    </tr>\n",
       "    <tr>\n",
       "      <th>3</th>\n",
       "      <td>3</td>\n",
       "      <td>594767</td>\n",
       "      <td>[{'id': 9715, 'name': 'superhero'}, {'id': 101...</td>\n",
       "    </tr>\n",
       "    <tr>\n",
       "      <th>4</th>\n",
       "      <td>4</td>\n",
       "      <td>640146</td>\n",
       "      <td>[{'id': 1701, 'name': 'hero'}, {'id': 3126, 'n...</td>\n",
       "    </tr>\n",
       "  </tbody>\n",
       "</table>\n",
       "</div>"
      ],
      "text/plain": [
       "   Unnamed: 0      id                                           keywords\n",
       "0           0   76600  [{'id': 697, 'name': 'loss of loved one'}, {'i...\n",
       "1           1  713704  [{'id': 380, 'name': 'sibling relationship'}, ...\n",
       "2           2  758323  [{'id': 514, 'name': 'spain'}, {'id': 588, 'na...\n",
       "3           3  594767  [{'id': 9715, 'name': 'superhero'}, {'id': 101...\n",
       "4           4  640146  [{'id': 1701, 'name': 'hero'}, {'id': 3126, 'n..."
      ]
     },
     "execution_count": 7,
     "metadata": {},
     "output_type": "execute_result"
    }
   ],
   "source": [
    "keywords.head()"
   ]
  },
  {
   "cell_type": "code",
   "execution_count": 8,
   "id": "8659c0a4",
   "metadata": {},
   "outputs": [
    {
     "data": {
      "text/html": [
       "<div>\n",
       "<style scoped>\n",
       "    .dataframe tbody tr th:only-of-type {\n",
       "        vertical-align: middle;\n",
       "    }\n",
       "\n",
       "    .dataframe tbody tr th {\n",
       "        vertical-align: top;\n",
       "    }\n",
       "\n",
       "    .dataframe thead th {\n",
       "        text-align: right;\n",
       "    }\n",
       "</style>\n",
       "<table border=\"1\" class=\"dataframe\">\n",
       "  <thead>\n",
       "    <tr style=\"text-align: right;\">\n",
       "      <th></th>\n",
       "      <th>genre_ids</th>\n",
       "      <th>id</th>\n",
       "      <th>original_language</th>\n",
       "      <th>overview</th>\n",
       "      <th>popularity</th>\n",
       "      <th>release_date</th>\n",
       "      <th>title</th>\n",
       "      <th>vote_average</th>\n",
       "      <th>vote_count</th>\n",
       "      <th>genres</th>\n",
       "    </tr>\n",
       "  </thead>\n",
       "  <tbody>\n",
       "    <tr>\n",
       "      <th>0</th>\n",
       "      <td>[16, 10751, 12, 14, 35]</td>\n",
       "      <td>502356</td>\n",
       "      <td>en</td>\n",
       "      <td>While working underground to fix a water main,...</td>\n",
       "      <td>8374.440</td>\n",
       "      <td>2023-04-05</td>\n",
       "      <td>The Super Mario Bros. Movie</td>\n",
       "      <td>7.7</td>\n",
       "      <td>3163</td>\n",
       "      <td>Animation, Family, Adventure, Fantasy, Comedy</td>\n",
       "    </tr>\n",
       "    <tr>\n",
       "      <th>1</th>\n",
       "      <td>[28, 80, 53]</td>\n",
       "      <td>385687</td>\n",
       "      <td>en</td>\n",
       "      <td>Over many missions and against impossible odds...</td>\n",
       "      <td>6742.222</td>\n",
       "      <td>2023-05-17</td>\n",
       "      <td>Fast X</td>\n",
       "      <td>6.9</td>\n",
       "      <td>312</td>\n",
       "      <td>Action, Crime, Thriller</td>\n",
       "    </tr>\n",
       "    <tr>\n",
       "      <th>2</th>\n",
       "      <td>[53, 27, 14]</td>\n",
       "      <td>713704</td>\n",
       "      <td>en</td>\n",
       "      <td>Three siblings find an ancient vinyl that give...</td>\n",
       "      <td>3842.290</td>\n",
       "      <td>2023-04-12</td>\n",
       "      <td>Evil Dead Rise</td>\n",
       "      <td>7.1</td>\n",
       "      <td>1233</td>\n",
       "      <td>Thriller, Horror, Fantasy</td>\n",
       "    </tr>\n",
       "    <tr>\n",
       "      <th>3</th>\n",
       "      <td>[28, 12, 878]</td>\n",
       "      <td>640146</td>\n",
       "      <td>en</td>\n",
       "      <td>Super-Hero partners Scott Lang and Hope van Dy...</td>\n",
       "      <td>3353.957</td>\n",
       "      <td>2023-02-15</td>\n",
       "      <td>Ant-Man and the Wasp: Quantumania</td>\n",
       "      <td>6.5</td>\n",
       "      <td>2817</td>\n",
       "      <td>Action, Adventure, Science Fiction</td>\n",
       "    </tr>\n",
       "    <tr>\n",
       "      <th>4</th>\n",
       "      <td>[28, 53]</td>\n",
       "      <td>552688</td>\n",
       "      <td>en</td>\n",
       "      <td>A deadly female assassin comes out of hiding t...</td>\n",
       "      <td>2930.887</td>\n",
       "      <td>2023-05-04</td>\n",
       "      <td>The Mother</td>\n",
       "      <td>6.7</td>\n",
       "      <td>487</td>\n",
       "      <td>Action, Thriller</td>\n",
       "    </tr>\n",
       "  </tbody>\n",
       "</table>\n",
       "</div>"
      ],
      "text/plain": [
       "                 genre_ids      id original_language  \\\n",
       "0  [16, 10751, 12, 14, 35]  502356                en   \n",
       "1             [28, 80, 53]  385687                en   \n",
       "2             [53, 27, 14]  713704                en   \n",
       "3            [28, 12, 878]  640146                en   \n",
       "4                 [28, 53]  552688                en   \n",
       "\n",
       "                                            overview  popularity release_date  \\\n",
       "0  While working underground to fix a water main,...    8374.440   2023-04-05   \n",
       "1  Over many missions and against impossible odds...    6742.222   2023-05-17   \n",
       "2  Three siblings find an ancient vinyl that give...    3842.290   2023-04-12   \n",
       "3  Super-Hero partners Scott Lang and Hope van Dy...    3353.957   2023-02-15   \n",
       "4  A deadly female assassin comes out of hiding t...    2930.887   2023-05-04   \n",
       "\n",
       "                               title  vote_average  vote_count  \\\n",
       "0        The Super Mario Bros. Movie           7.7        3163   \n",
       "1                             Fast X           6.9         312   \n",
       "2                     Evil Dead Rise           7.1        1233   \n",
       "3  Ant-Man and the Wasp: Quantumania           6.5        2817   \n",
       "4                         The Mother           6.7         487   \n",
       "\n",
       "                                          genres  \n",
       "0  Animation, Family, Adventure, Fantasy, Comedy  \n",
       "1                        Action, Crime, Thriller  \n",
       "2                      Thriller, Horror, Fantasy  \n",
       "3             Action, Adventure, Science Fiction  \n",
       "4                               Action, Thriller  "
      ]
     },
     "execution_count": 8,
     "metadata": {},
     "output_type": "execute_result"
    }
   ],
   "source": [
    "movies.head()"
   ]
  },
  {
   "cell_type": "code",
   "execution_count": null,
   "id": "fc76b213",
   "metadata": {},
   "outputs": [],
   "source": []
  }
 ],
 "metadata": {
  "kernelspec": {
   "display_name": "middle-earth",
   "language": "python",
   "name": "middle-earth"
  },
  "language_info": {
   "codemirror_mode": {
    "name": "ipython",
    "version": 3
   },
   "file_extension": ".py",
   "mimetype": "text/x-python",
   "name": "python",
   "nbconvert_exporter": "python",
   "pygments_lexer": "ipython3",
   "version": "3.8.16"
  }
 },
 "nbformat": 4,
 "nbformat_minor": 5
}
